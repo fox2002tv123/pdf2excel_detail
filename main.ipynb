{
 "cells": [
  {
   "cell_type": "code",
   "execution_count": null,
   "metadata": {},
   "outputs": [],
   "source": [
    "'''\n",
    "Author: bob\n",
    "Date: 2022-05-24 16:59:52\n",
    "LastEditors: bob\n",
    "LastEditTime: 2022-05-24 16:59:58\n",
    "FilePath: \\任务22-开发网络版对账单转换工具\\main.ipynb\n",
    "Description: 使用python编写的网络版对账单转换工具\n",
    "\n",
    "Copyright (c) 2022 by bob, All Rights Reserved. \n",
    "'''\n"
   ]
  },
  {
   "cell_type": "code",
   "execution_count": null,
   "metadata": {},
   "outputs": [],
   "source": [
    "# open读取txt文件\n",
    "\n",
    "with open('data.txt', 'r',encoding='utf-8') as f:\n",
    "    data = f.read()\n",
    "data"
   ]
  },
  {
   "cell_type": "code",
   "execution_count": null,
   "metadata": {},
   "outputs": [],
   "source": [
    "# # 预留-数据data提取的第二种方法\n",
    "# data=input('请输入数据：')\n",
    "# data\n"
   ]
  },
  {
   "cell_type": "code",
   "execution_count": null,
   "metadata": {},
   "outputs": [],
   "source": [
    "# 1.通过re模块提取数据-表头\n",
    "import re\n",
    "p=r'(\\d{5,6}) (\\S{17}) (\\S{6})'\n",
    "res_head=re.findall(p,data)\n",
    "res_head\n"
   ]
  },
  {
   "cell_type": "code",
   "execution_count": null,
   "metadata": {},
   "outputs": [],
   "source": [
    "# 2.通过re模块提取数据-表体\n",
    "# import re\n",
    "p=r'\\*( 赔付)(\\S*) ?(\\S*) ?(\\S*) ?(\\S*) ?(\\S*) ?(\\S*) ?(\\S*)'\n",
    "res_body=re.findall(p,data)\n",
    "res_body"
   ]
  },
  {
   "cell_type": "code",
   "execution_count": null,
   "metadata": {},
   "outputs": [],
   "source": [
    "# 3.通过re模块提取数据-对账单序列号\n",
    "# import re\n",
    "p=r'Credit Note Number (\\d{7})'\n",
    "res_number=re.findall(p,data)\n",
    "res_number=res_number[0]\n",
    "res_number"
   ]
  },
  {
   "cell_type": "code",
   "execution_count": null,
   "metadata": {},
   "outputs": [],
   "source": [
    "# 4.通过re模块提取数据-对账单日期\n",
    "# import re\n",
    "p=r'created on (\\S{10})'\n",
    "res_date=re.findall(p,data)\n",
    "res_date=res_date[0]\n",
    "res_date"
   ]
  },
  {
   "cell_type": "code",
   "execution_count": null,
   "metadata": {},
   "outputs": [],
   "source": [
    "\n",
    "# 5.判断国产还是进口\n",
    "first_char=res_head[0][1][0]\n",
    "if first_char=='L':\n",
    "    s='BBA'\n",
    "else:\n",
    "    s='GIS'\n",
    "s"
   ]
  },
  {
   "cell_type": "code",
   "execution_count": null,
   "metadata": {},
   "outputs": [],
   "source": [
    "# 通过pandas转换成dataframe\n",
    "import pandas as pd\n",
    "import numpy as np\n",
    "df1=pd.DataFrame(res_head,columns=['保修单号','车架号','DWP保修单号'])\n",
    "df1\n",
    "df2=pd.DataFrame(res_body,columns=list('A1234567'))\n",
    "df2\n",
    "# 合并两个dataframe concat axis=1\n",
    "df=pd.concat([df1,df2],axis=1)\n",
    "df\n",
    "\n",
    "# 去掉',',并转换成float\n",
    "df.loc[:,'1':'7']=df.loc[:,'1':'7'].applymap(lambda x:str(x).replace(',',''))\n",
    "\n",
    "# 转换成float\n",
    "for i in range(1,8):\n",
    "    df.loc[:,'{}'.format(i)]=pd.to_numeric(df.loc[:,'{}'.format(i)],errors='coerce')\n",
    "\n",
    "# 添加汇总列\n",
    "df['总计']=df.loc[:,'1':'7'].max(axis=1)\n",
    "\n",
    "# 添加各种'对账单序列号','对账单日期'列\n",
    "df['对账单序列号']=res_number\n",
    "df['对账单日期']=res_date.replace('.','/')\n",
    "\n",
    "df.head()\n",
    "# df.info()"
   ]
  },
  {
   "cell_type": "code",
   "execution_count": null,
   "metadata": {},
   "outputs": [],
   "source": [
    "# 写入excel\n",
    "# 改变列的顺序\n",
    "alist=['DWP保修单号','保修单号','车架号','对账单序列号','对账单日期','1','2','3','4','5','总计']\n",
    "# df[alist].to_excel(f'{res_number}DATE{res_date}{s}.xlsx',index=False)"
   ]
  },
  {
   "cell_type": "markdown",
   "metadata": {},
   "source": [
    "\n",
    "# 附加功能-找到每个细节"
   ]
  },
  {
   "cell_type": "code",
   "execution_count": null,
   "metadata": {},
   "outputs": [],
   "source": [
    "df.shape"
   ]
  },
  {
   "cell_type": "code",
   "execution_count": null,
   "metadata": {},
   "outputs": [],
   "source": [
    "# 0.re提取每个特征-生成段落\n",
    "import re\n",
    "detail_list=re.findall(r'[^_]+',data)[:-1]\n",
    "detail_list.__len__()\n",
    "detail_list[0]\n"
   ]
  },
  {
   "cell_type": "code",
   "execution_count": null,
   "metadata": {},
   "outputs": [],
   "source": [
    "# 1是否有零件特征\n",
    "detail_part=[]\n",
    "for i in detail_list:\n",
    "    if re.findall(r'\\d{10} \\S{11}',i): # 判断是否有零件特征\n",
    "        detail_part.append(True)\n",
    "    else:\n",
    "        detail_part.append(False)\n",
    "detail_part\n",
    "detail_part.__len__()\n"
   ]
  },
  {
   "cell_type": "code",
   "execution_count": null,
   "metadata": {},
   "outputs": [],
   "source": [
    "# 2是否有工时特征\n",
    "detail_FRU=[]\n",
    "for i in detail_list:\n",
    "    if re.findall(r'\\d{10} \\S{7}',i): # 判断是否有工时特征\n",
    "        detail_FRU.append(True)\n",
    "    else:\n",
    "        detail_FRU.append(False)\n",
    "detail_FRU\n",
    "detail_FRU.__len__()"
   ]
  },
  {
   "cell_type": "code",
   "execution_count": null,
   "metadata": {},
   "outputs": [],
   "source": [
    "# 3是否有辅料特征\n",
    "detail_sublit=[]\n",
    "for i in detail_list:\n",
    "    if re.findall(r'\\d{10} \\S{1} ',i): # 判断是否有辅料特征\n",
    "        detail_sublit.append(True)\n",
    "    else:\n",
    "        detail_sublit.append(False)\n",
    "# detail_sublit\n",
    "detail_sublit.__len__()"
   ]
  },
  {
   "cell_type": "code",
   "execution_count": null,
   "metadata": {},
   "outputs": [],
   "source": [
    "# 4是否有 处理费 特征\n",
    "detail_handcost=[]\n",
    "for i in detail_list:\n",
    "    if re.findall(r'\\d{9}[^6] \\S{11}',i): # DC最后一位不能是6\n",
    "        detail_handcost.append(True)\n",
    "    else:\n",
    "        detail_handcost.append(False)\n",
    "# detail_handcost\n",
    "detail_handcost.__len__()"
   ]
  },
  {
   "cell_type": "code",
   "execution_count": null,
   "metadata": {},
   "outputs": [],
   "source": [
    "# 5是否有 税费 特征-都有\n",
    "detail_tax=[]\n",
    "for i in detail_list:\n",
    "        detail_tax.append(True)\n",
    "detail_tax\n",
    "detail_tax.__len__()"
   ]
  },
  {
   "cell_type": "code",
   "execution_count": null,
   "metadata": {},
   "outputs": [],
   "source": [
    "# 6是否有 合计特征-都有\n",
    "detail_total=[]\n",
    "for i in detail_list:\n",
    "        detail_total.append(True)\n",
    "detail_total\n",
    "detail_total.__len__()"
   ]
  },
  {
   "cell_type": "code",
   "execution_count": null,
   "metadata": {},
   "outputs": [],
   "source": [
    "# 形成一个dataframe\n",
    "df_detail=pd.DataFrame({'detail_part':detail_part,'detail_FRU':detail_FRU,'detail_sublit':detail_sublit,'detail_handcost':detail_handcost,'detail_tax':detail_tax,'detail_total':detail_total})\n",
    "df_detail.head()"
   ]
  },
  {
   "cell_type": "code",
   "execution_count": null,
   "metadata": {},
   "outputs": [],
   "source": [
    "# 通过true false 填入数据\n",
    "import numpy as np\n",
    "df_detail_res=df_detail.copy()\n",
    "df_value=df.loc[:,'1':'6']\n",
    "df_value.head()\n",
    "for i in range(df_value.shape[0]):\n",
    "    k=0\n",
    "    for j in range(df_value.shape[1]):\n",
    "        if df_detail.iloc[i,j]:\n",
    "            df_detail_res.iloc[i,j]=df_value.iloc[i,k]\n",
    "            k+=1\n",
    "        else:\n",
    "            df_detail_res.iloc[i,j]=np.nan    \n",
    "\n",
    "df_detail_res.head()"
   ]
  },
  {
   "cell_type": "code",
   "execution_count": null,
   "metadata": {},
   "outputs": [],
   "source": [
    "# df和df_detail_res合并 axis=1\n",
    "df_res=pd.concat([df,df_detail_res],axis=1)\n",
    "df_res.head()"
   ]
  },
  {
   "cell_type": "code",
   "execution_count": null,
   "metadata": {},
   "outputs": [],
   "source": [
    "# 修改列的名字\n",
    "df1=df_res.copy()\n",
    "new_columns=['DWP','CLAIM','VIN','NO','DATE','1','2','3','4','5','TOTAL']\n",
    "df1.rename(columns=dict(zip(alist,new_columns)),inplace=True)\n",
    "df1[new_columns].head()\n",
    "# df1[['TOTAL','detail_total']].head()\n",
    "(df1['TOTAL']-df1['detail_total']).unique() # 合计和detail_total的差值相等\n",
    "collect_list=['DWP','CLAIM','VIN','NO','DATE','detail_part','detail_FRU','detail_sublit','detail_handcost','detail_tax','TOTAL']\n",
    "df1[collect_list].head()\n",
    "# df1[collect_list].to_excel(f'{res_number}DATE{res_date}{s}.xlsx',index=False)\n",
    "\n"
   ]
  }
 ],
 "metadata": {
  "interpreter": {
   "hash": "5b6d945fa3cd7ac85a442deeb5c2e7566ca7f10b998470754c556bf8c4b67538"
  },
  "kernelspec": {
   "display_name": "Python 3.8.5 64-bit",
   "language": "python",
   "name": "python3"
  },
  "language_info": {
   "codemirror_mode": {
    "name": "ipython",
    "version": 3
   },
   "file_extension": ".py",
   "mimetype": "text/x-python",
   "name": "python",
   "nbconvert_exporter": "python",
   "pygments_lexer": "ipython3",
   "version": "3.8.5"
  },
  "orig_nbformat": 4
 },
 "nbformat": 4,
 "nbformat_minor": 2
}
