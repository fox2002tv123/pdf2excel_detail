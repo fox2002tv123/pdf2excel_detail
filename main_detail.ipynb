{
 "cells": [
  {
   "cell_type": "code",
   "execution_count": null,
   "metadata": {},
   "outputs": [],
   "source": [
    "'''\n",
    "Author: bob\n",
    "Date: 2022-05-24 16:59:52\n",
    "LastEditors: bob\n",
    "LastEditTime: 2022-05-24 16:59:58\n",
    "FilePath: \\任务22-开发网络版对账单转换工具\\main.ipynb\n",
    "Description: 使用python编写的网络版对账单转换工具\n",
    "\n",
    "Copyright (c) 2022 by bob, All Rights Reserved. \n",
    "'''\n"
   ]
  },
  {
   "cell_type": "code",
   "execution_count": null,
   "metadata": {},
   "outputs": [],
   "source": [
    "# open读取txt文件\n",
    "\n",
    "with open('data.txt', 'r',encoding='utf-8') as f:\n",
    "    data = f.read()\n",
    "data"
   ]
  },
  {
   "cell_type": "code",
   "execution_count": null,
   "metadata": {},
   "outputs": [],
   "source": [
    "# 1.通过re模块提取数据-表头\n",
    "import re\n",
    "p=r'(\\d{5,6}) (\\S{17}) (\\S{6})'\n",
    "res_head=re.findall(p,data)\n",
    "res_head\n"
   ]
  },
  {
   "cell_type": "code",
   "execution_count": null,
   "metadata": {},
   "outputs": [],
   "source": [
    "# 2.通过re模块提取数据-表体\n",
    "# import re\n",
    "p=r'\\*( 赔付)(\\S*) ?(\\S*) ?(\\S*) ?(\\S*) ?(\\S*) ?(\\S*) ?(\\S*)'\n",
    "res_body=re.findall(p,data)\n",
    "res_body"
   ]
  },
  {
   "cell_type": "code",
   "execution_count": null,
   "metadata": {},
   "outputs": [],
   "source": [
    "# 3.通过re模块提取数据-对账单序列号\n",
    "# import re\n",
    "p=r'Credit Note Number (\\d{7})'\n",
    "res_number=re.findall(p,data)\n",
    "res_number=res_number[0]\n",
    "res_number"
   ]
  },
  {
   "cell_type": "code",
   "execution_count": null,
   "metadata": {},
   "outputs": [],
   "source": [
    "# 4.通过re模块提取数据-对账单日期\n",
    "# import re\n",
    "p=r'created on (\\S{10})'\n",
    "res_date=re.findall(p,data)\n",
    "res_date=res_date[0]\n",
    "res_date"
   ]
  },
  {
   "cell_type": "code",
   "execution_count": null,
   "metadata": {},
   "outputs": [],
   "source": [
    "\n",
    "# 5.判断国产还是进口\n",
    "first_char=res_head[0][1][0]\n",
    "if first_char=='L':\n",
    "    s='BBA'\n",
    "else:\n",
    "    s='GIS'\n",
    "s"
   ]
  },
  {
   "cell_type": "code",
   "execution_count": null,
   "metadata": {},
   "outputs": [],
   "source": [
    "# 通过pandas转换成dataframe\n",
    "import pandas as pd\n",
    "import numpy as np\n",
    "df1=pd.DataFrame(res_head,columns=['保修单号','车架号','DWP保修单号'])\n",
    "df1\n",
    "df2=pd.DataFrame(res_body,columns=list('A1234567'))\n",
    "df2\n",
    "# 合并两个dataframe concat axis=1\n",
    "df=pd.concat([df1,df2],axis=1)\n",
    "df\n",
    "\n",
    "# 去掉',',并转换成float\n",
    "df.loc[:,'1':'7']=df.loc[:,'1':'7'].applymap(lambda x:str(x).replace(',',''))\n",
    "\n",
    "# 转换成float\n",
    "for i in range(1,8):\n",
    "    df.loc[:,'{}'.format(i)]=pd.to_numeric(df.loc[:,'{}'.format(i)],errors='coerce')\n",
    "\n",
    "# 添加汇总列\n",
    "df['总计']=df.loc[:,'1':'7'].max(axis=1)\n",
    "\n",
    "# 添加各种'对账单序列号','对账单日期'列\n",
    "df['对账单序列号']=res_number\n",
    "df['对账单日期']=res_date.replace('.','/')\n",
    "\n",
    "df.head()\n",
    "# df.info()"
   ]
  },
  {
   "cell_type": "markdown",
   "metadata": {},
   "source": [
    "\n",
    "# 附加功能-找到每个细节"
   ]
  },
  {
   "cell_type": "code",
   "execution_count": null,
   "metadata": {},
   "outputs": [],
   "source": [
    "df.shape"
   ]
  },
  {
   "cell_type": "code",
   "execution_count": null,
   "metadata": {},
   "outputs": [],
   "source": [
    "# 0.re提取每个特征-生成段落\n",
    "import re\n",
    "detail_list=re.findall(r'[^_]+',data)[:-1]\n",
    "detail_list.__len__()\n",
    "# detail_list[0]\n"
   ]
  },
  {
   "cell_type": "code",
   "execution_count": null,
   "metadata": {},
   "outputs": [],
   "source": [
    "# 1提取工时行\n",
    "FRU=re.findall(r'(\\S{10}) (\\d{7}) (\\S+) (\\S+) (\\S+) (\\S+) (\\S+) (\\S+)',detail_list[0])\n",
    "FRU\n",
    "df_FRU=pd.DataFrame(FRU,columns=list('ABCDFHKL'))\n",
    "df_FRU"
   ]
  },
  {
   "cell_type": "code",
   "execution_count": null,
   "metadata": {},
   "outputs": [],
   "source": [
    "# 2.提取零件行-正常配件\n",
    "part_normal=re.findall(r'(\\S{10}) (\\S{11}) (\\S+) (\\S+) (\\S+) (\\S+) (\\S+) (\\S+) (\\S+) (\\S+)',detail_list[1])\n",
    "part_normal\n",
    "df_part_normal=pd.DataFrame(part_normal,columns=list('ABCDEFGJKL'))\n",
    "df_part_normal"
   ]
  },
  {
   "cell_type": "code",
   "execution_count": null,
   "metadata": {},
   "outputs": [],
   "source": [
    "# 3.提取零件行-BSI配件\n",
    "part_BSI=re.findall(r'(8\\S{8}6) (\\S{11}) (\\S+) (\\S+) (\\S+) (\\S+) (\\S+) (\\S+)',detail_list[0])\n",
    "part_BSI\n",
    "df_part_BSI=pd.DataFrame(part_BSI,columns=list('ABCDFGKL'))\n",
    "df_part_BSI"
   ]
  },
  {
   "cell_type": "code",
   "execution_count": null,
   "metadata": {},
   "outputs": [],
   "source": [
    "# 4.提取辅料\n",
    "sub_4=re.findall(r'(\\S{10}) (\\S{1}) (\\S+) (\\S+) (\\S+) (\\S+) (\\S+) (\\S+)',detail_list[0])\n",
    "sub_4\n",
    "df_sub_4=pd.DataFrame(sub_4,columns=list('ABCDFIKL'))\n",
    "df_sub_4"
   ]
  },
  {
   "cell_type": "code",
   "execution_count": null,
   "metadata": {},
   "outputs": [],
   "source": [
    "# 5.提取F111\n",
    "F111=re.findall(r'(9999001386) (4) (\\S+) (\\S+) (\\S+) (\\S+) (\\S+)',i)\n",
    "F111\n",
    "df_F111=pd.DataFrame(F111,columns=list('ABCFIKL'))\n",
    "df_F111"
   ]
  },
  {
   "cell_type": "code",
   "execution_count": null,
   "metadata": {},
   "outputs": [],
   "source": [
    "# 5.找到单行的表头\n",
    "p=r'(\\d{5,6}) (\\S{17}) (\\S{6})'\n",
    "one_head=re.findall(p,detail_list[0])\n",
    "one_head\n",
    "claim,vin,dwp=one_head[0]\n",
    "claim,vin,dwp"
   ]
  },
  {
   "cell_type": "code",
   "execution_count": null,
   "metadata": {},
   "outputs": [],
   "source": [
    "# 建立一个空的dataframe，只包括表头-作用是避免漏掉没有数据的列\n",
    "df_na=pd.DataFrame(columns=list('ABCDEFGHIJKL'))\n",
    "df_na"
   ]
  },
  {
   "cell_type": "code",
   "execution_count": null,
   "metadata": {},
   "outputs": [],
   "source": [
    "# 拼接dataframe\n",
    "res_one_part=pd.concat([df_FRU,df_part_normal,df_part_BSI,df_sub_4,df_F111],axis=0)\n",
    "# column 按照字母排序\n",
    "res_one_part.sort_index(axis=1,inplace=True)\n",
    "# claim vin dwp 插入前三列\n",
    "res_one_part.insert(0,'claim',claim)\n",
    "res_one_part.insert(1,'vin',vin)\n",
    "res_one_part.insert(2,'dwp',dwp)\n",
    "res_one_part"
   ]
  },
  {
   "cell_type": "code",
   "execution_count": null,
   "metadata": {},
   "outputs": [],
   "source": [
    "# 0.re提取每个特征-生成段落\n",
    "import re\n",
    "detail_list=re.findall(r'[^_]+',data)[:-1]\n",
    "detail_list.__len__()\n",
    "\n",
    "res_list=[]\n",
    "for i in detail_list:\n",
    "    \n",
    "    concat_list=[]\n",
    "    \n",
    "    # \n",
    "    # 1提取工时行\n",
    "    FRU=re.findall(r'(\\S{10}) (\\d{7}) (\\S+) (\\S+) (\\S+) (\\S+) (\\S+) (\\S+)',i)\n",
    "    if FRU:\n",
    "        df_FRU=pd.DataFrame(FRU,columns=list('ABCDFHKL'))\n",
    "        concat_list.append(df_FRU)\n",
    "    # df_FRU=pd.DataFrame(FRU,columns=list('ABCDFHKL'))\n",
    "    # df_FRU\n",
    "    \n",
    "\n",
    "    # \n",
    "    #   2.提取零件行-正常配件\n",
    "    part_normal=re.findall(r'(\\S{10}) (\\S{11}) (\\S+) (\\S+) (\\S+) (\\S+) (\\S+) (\\S+) (\\S+) (\\S+)',i)\n",
    "    part_normal\n",
    "    if part_normal:\n",
    "        df_part_normal=pd.DataFrame(part_normal,columns=list('ABCDEFGJKL'))\n",
    "        concat_list.append(df_part_normal)\n",
    "    # df_part_normal=pd.DataFrame(part_normal,columns=list('ABCDEFGJKL'))\n",
    "    # df_part_normal\n",
    "\n",
    "    # \n",
    "    # 3.提取零件行-BSI配件\n",
    "    part_BSI=re.findall(r'(8\\S{8}6) (\\S{11}) (\\S+) (\\S+) (\\S+) (\\S+) (\\S+) (\\S+)',i)\n",
    "    part_BSI\n",
    "    if part_BSI:\n",
    "        df_part_BSI=pd.DataFrame(part_BSI,columns=list('ABCDFGKL'))\n",
    "        concat_list.append(df_part_BSI)\n",
    "        \n",
    "     # 3.提取零件行-全陪付配件\n",
    "    df_part_short_detail=re.findall(r'^(\\S{10}) (\\S{11}) (\\S+) (\\S+) (\\S+) (\\S+) (\\S+) (\\S+) (\\S+)$',i)\n",
    "    df_part_short_detail\n",
    "    if df_part_short_detail:\n",
    "        df_short=pd.DataFrame(df_part_short_detail,columns=list('ABCDFGJKL'))\n",
    "        concat_list.append(df_short)\n",
    "    # df_part_BSI=pd.DataFrame(part_BSI,columns=list('ABCDFGKL'))\n",
    "    # df_part_BSI\n",
    "\n",
    "    # \n",
    "    # 4.提取辅料\n",
    "    sub_4=re.findall(r'(\\S{10}) (\\S{1}) (\\S+) (\\S+) (\\S+) (\\S+) (\\S+) (\\S+)',i)\n",
    "    sub_4\n",
    "    if sub_4:\n",
    "        df_sub_4=pd.DataFrame(sub_4,columns=list('ABCDFIKL'))\n",
    "        concat_list.append(df_sub_4)\n",
    "        \n",
    "    # df_sub_4=pd.DataFrame(sub_4,columns=list('ABCDFIKL'))\n",
    "    # df_sub_4\n",
    "    \n",
    "    # 5.提取F111\n",
    "    F111=re.findall(r'(9999001386) (4) (\\S+) (\\S+) (\\S+) (\\S+) (\\S+)',detail_list[19])\n",
    "    F111\n",
    "    if F111:\n",
    "        df_F111=pd.DataFrame(F111,columns=list('ABCFIKL'))\n",
    "        concat_list.append(df_F111)\n",
    "        \n",
    "    # df_F111=pd.DataFrame(F111,columns=list('ABCFIKL'))\n",
    "    # df_F111\n",
    "\n",
    "    # \n",
    "    # 6.找到单行的表头\n",
    "    p=r'(\\d{5,6}) (\\S{17}) (\\S{6})'\n",
    "    one_head=re.findall(p,i)\n",
    "    one_head\n",
    "    claim,vin,dwp=one_head[0]\n",
    "    claim,vin,dwp\n",
    "\n",
    "    # \n",
    "    # 建立一个空的dataframe，只包括表头-作用是避免漏掉没有数据的列\n",
    "    df_na=pd.DataFrame(columns=list('ABCDEFGHIJKL'))\n",
    "    concat_list.append(df_na)\n",
    "\n",
    "    # \n",
    "    # 拼接dataframe\n",
    "    res_one_part=pd.concat(concat_list,axis=0)\n",
    "    # column 按照字母排序\n",
    "    res_one_part.sort_index(axis=1,inplace=True)\n",
    "    # claim vin dwp 插入前三列\n",
    "    res_one_part.insert(0,'claim',claim)\n",
    "    res_one_part.insert(1,'vin',vin)\n",
    "    res_one_part.insert(2,'dwp',dwp)\n",
    "    res_list.append(res_one_part)\n",
    "\n",
    "res=pd.concat(res_list,axis=0)\n",
    "# 将A-L列转换为数值\n",
    "# res[list('ABCDEFJHIJKL')]=res[list('ABCDEFJHIJKL')].apply(pd.to_numeric,errors='ignore')\n",
    "res"
   ]
  },
  {
   "cell_type": "code",
   "execution_count": null,
   "metadata": {},
   "outputs": [],
   "source": [
    "\n",
    "# res.to_excel('res1.xlsx',index=False)"
   ]
  }
 ],
 "metadata": {
  "interpreter": {
   "hash": "5b6d945fa3cd7ac85a442deeb5c2e7566ca7f10b998470754c556bf8c4b67538"
  },
  "kernelspec": {
   "display_name": "Python 3.8.5 64-bit",
   "language": "python",
   "name": "python3"
  },
  "language_info": {
   "codemirror_mode": {
    "name": "ipython",
    "version": 3
   },
   "file_extension": ".py",
   "mimetype": "text/x-python",
   "name": "python",
   "nbconvert_exporter": "python",
   "pygments_lexer": "ipython3",
   "version": "3.8.5"
  },
  "orig_nbformat": 4
 },
 "nbformat": 4,
 "nbformat_minor": 2
}
